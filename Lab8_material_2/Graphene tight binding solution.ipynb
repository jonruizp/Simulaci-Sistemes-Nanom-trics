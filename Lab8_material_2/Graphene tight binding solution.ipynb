{
 "cells": [
  {
   "cell_type": "code",
   "execution_count": 3,
   "id": "ce0efb1e",
   "metadata": {},
   "outputs": [
    {
     "name": "stdout",
     "output_type": "stream",
     "text": [
      "[[ 1.47492613  2.55464699 -0.        ]\n",
      " [ 1.47492613 -2.55464699 -0.        ]\n",
      " [-0.         -0.          0.44247784]]\n",
      "[ 1.47492613  0.851549   -0.        ] [ 0.73746306  1.2773235  -0.        ]\n"
     ]
    },
    {
     "ename": "NameError",
     "evalue": "name 'eigh' is not defined",
     "output_type": "error",
     "traceback": [
      "\u001b[0;31m---------------------------------------------------------------------------\u001b[0m",
      "\u001b[0;31mNameError\u001b[0m                                 Traceback (most recent call last)",
      "Input \u001b[0;32mIn [3]\u001b[0m, in \u001b[0;36m<module>\u001b[0;34m\u001b[0m\n\u001b[1;32m     69\u001b[0m     \u001b[38;5;66;03m# We are done looping, just return our results\u001b[39;00m\n\u001b[1;32m     70\u001b[0m     \u001b[38;5;28;01mreturn\u001b[39;00m ks, eigenvalues\n\u001b[0;32m---> 73\u001b[0m k, E \u001b[38;5;241m=\u001b[39m \u001b[43mgraphene_bands\u001b[49m\u001b[43m(\u001b[49m\u001b[38;5;241;43m300\u001b[39;49m\u001b[43m,\u001b[49m\u001b[43m \u001b[49m\u001b[38;5;241;43m0\u001b[39;49m\u001b[43m)\u001b[49m\n",
      "Input \u001b[0;32mIn [3]\u001b[0m, in \u001b[0;36mgraphene_bands\u001b[0;34m(nkpoints, onsite, gamma, overlap)\u001b[0m\n\u001b[1;32m     62\u001b[0m     S_k[\u001b[38;5;241m0\u001b[39m,\u001b[38;5;241m1\u001b[39m] \u001b[38;5;241m+\u001b[39m\u001b[38;5;241m=\u001b[39m overlap \u001b[38;5;241m*\u001b[39m phase\n\u001b[1;32m     64\u001b[0m \u001b[38;5;66;03m# Finally, diagonalize and extract the eigenvalues.\u001b[39;00m\n\u001b[0;32m---> 65\u001b[0m k_eigenvalues, k_eigenvecs \u001b[38;5;241m=\u001b[39m \u001b[43meigh\u001b[49m(H_k, S_k, lower\u001b[38;5;241m=\u001b[39m\u001b[38;5;28;01mFalse\u001b[39;00m)\n\u001b[1;32m     66\u001b[0m \u001b[38;5;66;03m# And store them in our array.\u001b[39;00m\n\u001b[1;32m     67\u001b[0m eigenvalues[i, :] \u001b[38;5;241m=\u001b[39m k_eigenvalues\n",
      "\u001b[0;31mNameError\u001b[0m: name 'eigh' is not defined"
     ]
    }
   ],
   "source": [
    "import numpy as np\n",
    "import sisl\n",
    "\n",
    "def graphene_bands(nkpoints, onsite=0, gamma=-2.7, overlap=0.03):\n",
    "    \"\"\"Explain your function in one line\n",
    "    \n",
    "    Maybe provide extra info here?\n",
    "    \n",
    "    Parameters\n",
    "    ----------\n",
    "    Document what each parameter does.\n",
    "        \n",
    "    Returns\n",
    "    -------\n",
    "    Document what the function returns\n",
    "    \"\"\"\n",
    "    graphene_cell = np.array([\n",
    "       [2.13,  1.23,  0. ],\n",
    "       [2.13, -1.23,  0. ],\n",
    "       [0.  ,  0.  , 14.2]\n",
    "    ])\n",
    "    reciprocal_cell = sisl.geom.graphene().rcell\n",
    "    print(reciprocal_cell)\n",
    "    \n",
    "    # The translation vectors to cells that are considered neighbours.\n",
    "    Rnn = [[0, 0, 0], -graphene_cell[0], -graphene_cell[1]]\n",
    "    \n",
    "    # Get all the k values that we are going to use.\n",
    "    \n",
    "    # First find the coordinates of the high simmetry points\n",
    "    M = 2/3 * reciprocal_cell[0] + 1/3 * reciprocal_cell[1]\n",
    "    K = 1/2 * reciprocal_cell[0]\n",
    "    \n",
    "    print(M, K)\n",
    "    \n",
    "    # And then build the path\n",
    "    first_segment = 2 * (nkpoints // 3)\n",
    "    ks = [*np.linspace(0, M, first_segment), *np.linspace(M, K, nkpoints - first_segment + 1)[1:]]\n",
    "    \n",
    "    # Initialize the eigenvalues array, where we will store everything.\n",
    "    eigenvalues = np.zeros((nkpoints, 2))\n",
    "\n",
    "    # Then loop through all the k points\n",
    "    for i, k in enumerate(ks):\n",
    "        # Initialize our hamiltonian and overlap matrices, just with the diagonal elements\n",
    "        H_k = np.array([\n",
    "            [onsite, 0],\n",
    "            [0, onsite]\n",
    "        ], dtype=complex)\n",
    "        S_k = np.array([\n",
    "            [1, 0],\n",
    "            [0, 1]\n",
    "        ], dtype=complex)\n",
    "        \n",
    "        # And now, we are going to fill the non-diagonal terms\n",
    "        # Loop through all cells in the supercell\n",
    "        for R in Rnn:\n",
    "            # Calculate the phase value for this translation and K point\n",
    "            phase = np.exp(- k.dot(R) * 1j)\n",
    "            # And now add the contribution to the hamiltonian and overlap.\n",
    "            H_k[0,1] += gamma * phase\n",
    "            S_k[0,1] += overlap * phase\n",
    "\n",
    "        # Finally, diagonalize and extract the eigenvalues.\n",
    "        k_eigenvalues, k_eigenvecs = eigh(H_k, S_k, lower=False)\n",
    "        # And store them in our array.\n",
    "        eigenvalues[i, :] = k_eigenvalues\n",
    "\n",
    "    # We are done looping, just return our results\n",
    "    return ks, eigenvalues\n",
    "\n",
    "\n",
    "k, E = graphene_bands(300, 0)"
   ]
  },
  {
   "cell_type": "code",
   "execution_count": 7,
   "id": "0644ca75",
   "metadata": {},
   "outputs": [
    {
     "data": {
      "text/plain": [
       "1.7320508075688774"
      ]
     },
     "execution_count": 7,
     "metadata": {},
     "output_type": "execute_result"
    }
   ],
   "source": [
    "1/np.tan(np.radians(30))"
   ]
  },
  {
   "cell_type": "markdown",
   "id": "28c874cc",
   "metadata": {},
   "source": [
    "Graphene 3D surface\n",
    "----"
   ]
  },
  {
   "cell_type": "code",
   "execution_count": null,
   "id": "aa28cb12",
   "metadata": {},
   "outputs": [],
   "source": [
    "reciprocal = geom.rcell[:2,:2]\n",
    "\n",
    "# The translation vectors to cells that are considered neighbours.\n",
    "Rnn = [[1.42, 0], [-0.71, 1.23], [-0.71, -1.23]]\n",
    "# Get all the k values that we are going to use.\n",
    "grid_size = 25\n",
    "coordinates = np.linspace(0, 1, 25)\n",
    "X, Y = np.meshgrid(coordinates, coordinates)\n",
    "nkpoints = np.prod(X.shape)\n",
    "# Initialize the eigenvalues array, where we will store everything.\n",
    "eigenvalues = np.zeros((*X.shape, 2))\n",
    "\n",
    "# We can start looping through all the K points to get the eigenvalues for each of them.\n",
    "for i in range(X.shape[0]):\n",
    "    for j in range(X.shape[1]):\n",
    "        # Initialize our hamiltonian and overlap matrices, just with the diagonal elements\n",
    "        H = np.array([\n",
    "            [e2p, 0],\n",
    "            [0, e2p]\n",
    "        ], dtype=complex)\n",
    "        S = np.array([\n",
    "            [1, 0],\n",
    "            [0, 1]\n",
    "        ], dtype=complex)\n",
    "        \n",
    "        k = X[i,j] * reciprocal[0] + Y[i,j] * reciprocal[1]\n",
    "        # And now, we are going to fill the non-diagonal term\n",
    "        # Loop through all cells in the supercell\n",
    "        for R in Rnn:\n",
    "            # Calculate the phase value for this translation and K point\n",
    "            phase = np.exp(- k.dot(R) * 1j)\n",
    "            # And now add the contribution to the hamiltonian and overlap.\n",
    "            H[0,1] += gamma0 * phase\n",
    "            S[0,1] += s0 * phase\n",
    "\n",
    "        # Finally, diagonalize and extract the eigenvalues.\n",
    "        k_eigenvalues, k_eigenvecs = eigh(H, S, lower=False)\n",
    "        # And store them in our array.\n",
    "        eigenvalues[i, j, :] = k_eigenvalues"
   ]
  },
  {
   "cell_type": "code",
   "execution_count": null,
   "id": "ebc3c90e",
   "metadata": {},
   "outputs": [],
   "source": [
    "import plotly.graph_objects as go\n",
    "\n",
    "go.Figure(\n",
    "    data=[go.Surface(\n",
    "        x=X, y=Y, z=eigenvalues[..., state], coloraxis=\"coloraxis\", name=f\"State {state}\"\n",
    "    ) for state in [0, 1]]\n",
    ")"
   ]
  }
 ],
 "metadata": {
  "kernelspec": {
   "display_name": "Python 3 (ipykernel)",
   "language": "python",
   "name": "python3"
  },
  "language_info": {
   "codemirror_mode": {
    "name": "ipython",
    "version": 3
   },
   "file_extension": ".py",
   "mimetype": "text/x-python",
   "name": "python",
   "nbconvert_exporter": "python",
   "pygments_lexer": "ipython3",
   "version": "3.9.15"
  }
 },
 "nbformat": 4,
 "nbformat_minor": 5
}
