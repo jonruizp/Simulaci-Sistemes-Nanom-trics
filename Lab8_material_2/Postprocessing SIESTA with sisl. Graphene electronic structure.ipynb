{
 "cells": [
  {
   "cell_type": "markdown",
   "id": "8add0001",
   "metadata": {},
   "source": [
    "This notebook will introduce you to the most typical analysis of electronic structure: Bands, fatbands and projected density of states.\n",
    "\n",
    "We will do the analysis for graphene. First, we will do it on a tight binding hamiltonian, defining a unit cell with only 2 orbitals. Since this is very cheap, it will allow us to explore very fast. Afterwards, we will do the analysis on the results of a SIESTA simulation."
   ]
  },
  {
   "cell_type": "code",
   "execution_count": null,
   "id": "0422b9b3",
   "metadata": {},
   "outputs": [],
   "source": [
    "import sisl\n",
    "import sisl.viz\n",
    "import plotly.express as px"
   ]
  },
  {
   "cell_type": "markdown",
   "id": "9021880d",
   "metadata": {},
   "source": [
    "Graphene tight binding (the easy way)\n",
    "----\n",
    "Now that you know everything you need to consider to make a tight binding model work, you will appreciate more how `sisl` makes it easy for you to create one. We will do it in simple steps:\n",
    "\n",
    "#### Create a structure\n",
    "\n",
    "The first step to have a tight binding model is creating the atomic structure that you want to model. In general, you don't need to calculate the coordinates of the geometry yourself. `sisl` has functions that allow you to automatically create common geometries (see [here](https://zerothi.github.io/sisl/api/default_geom.html?highlight=geom#module-sisl.geom)). To generate molecules, the [`ASE` package](https://wiki.fysik.dtu.dk/ase/) has a very useful `build` function.\n",
    "\n",
    "Let's build a graphene structure:"
   ]
  },
  {
   "cell_type": "code",
   "execution_count": null,
   "id": "8156975f",
   "metadata": {},
   "outputs": [],
   "source": [
    "graphene = sisl.geom.graphene()"
   ]
  },
  {
   "cell_type": "markdown",
   "id": "1799b579",
   "metadata": {},
   "source": [
    "Let's check what it is:"
   ]
  },
  {
   "cell_type": "code",
   "execution_count": null,
   "id": "9c6624a1",
   "metadata": {},
   "outputs": [],
   "source": [
    "graphene"
   ]
  },
  {
   "cell_type": "markdown",
   "id": "14075acf",
   "metadata": {},
   "source": [
    "Now that we know it is a `Geometry` object, we can go to sisl's documentation to see all the [methods that we can use](https://zerothi.github.io/sisl/api/generated/sisl.Geometry.html?highlight=geometry#sisl.Geometry) on it to manipulate the structure, measure things, etc...\n",
    "\n",
    "We can now plot it to see how it looks:"
   ]
  },
  {
   "cell_type": "code",
   "execution_count": null,
   "id": "f17ea870",
   "metadata": {},
   "outputs": [],
   "source": [
    "graphene.plot(axes=\"xy\")"
   ]
  },
  {
   "cell_type": "markdown",
   "id": "d1da2762",
   "metadata": {},
   "source": [
    "The coordinates are stored under the `xyz` attribute:"
   ]
  },
  {
   "cell_type": "code",
   "execution_count": null,
   "id": "b9b14814",
   "metadata": {},
   "outputs": [],
   "source": [
    "graphene.xyz"
   ]
  },
  {
   "cell_type": "markdown",
   "id": "32928fe3",
   "metadata": {},
   "source": [
    "And the lattice vectors can be found under `cell`:"
   ]
  },
  {
   "cell_type": "code",
   "execution_count": null,
   "id": "3beab0a1",
   "metadata": {},
   "outputs": [],
   "source": [
    "graphene.cell"
   ]
  },
  {
   "cell_type": "markdown",
   "id": "9001e303",
   "metadata": {},
   "source": [
    "Just as an example, we can use the `move` method to  modify the structure a bit:"
   ]
  },
  {
   "cell_type": "code",
   "execution_count": null,
   "id": "63c0dc76",
   "metadata": {},
   "outputs": [],
   "source": [
    "modified_graphene = graphene.move([-0.1, 0.1, 0], atoms=1)"
   ]
  },
  {
   "cell_type": "markdown",
   "id": "5af641fb",
   "metadata": {},
   "source": [
    "Let's see how it looks now:"
   ]
  },
  {
   "cell_type": "code",
   "execution_count": null,
   "id": "769b9b39",
   "metadata": {},
   "outputs": [],
   "source": [
    "modified_graphene.plot(axes=\"xy\")"
   ]
  },
  {
   "cell_type": "markdown",
   "id": "3d34cd7c",
   "metadata": {},
   "source": [
    "**Challenge:** Look at the documentation and try to create a 7-atoms wide graphene nanoribbon structure. Plot it to see that it is what you want."
   ]
  },
  {
   "cell_type": "code",
   "execution_count": null,
   "id": "1d3a6e62",
   "metadata": {},
   "outputs": [],
   "source": []
  },
  {
   "cell_type": "markdown",
   "id": "1395e436",
   "metadata": {},
   "source": [
    "We could do lots of things here, but we will stick to our graphene structure for our first tight binding model.\n",
    "\n",
    "#### Build a Hamiltonian\n",
    "\n",
    "This is as easy as:"
   ]
  },
  {
   "cell_type": "code",
   "execution_count": null,
   "id": "775a02bf",
   "metadata": {},
   "outputs": [],
   "source": [
    "H = sisl.Hamiltonian(graphene)\n",
    "H"
   ]
  },
  {
   "cell_type": "markdown",
   "id": "74078536",
   "metadata": {},
   "source": [
    "However, this hamiltonian doesn't contain any values yet, we have to populate it. There is a very easy way to do this: the `construct` method. It needs a list with two items:\n",
    "- A list of cutoff radius.\n",
    "- A list containing, for each cutoff radius, the interaction parameter between atoms.\n",
    "So, effectively, if we want to construct a tight binding hamiltonian with onsite energy $e = 0$ and first neighbour hopping $\\gamma=-2.7$, we would do something like this:"
   ]
  },
  {
   "cell_type": "code",
   "execution_count": null,
   "id": "d75de79a",
   "metadata": {},
   "outputs": [],
   "source": [
    "H.construct([(0.1, 1.5), (-0.2, -2.7)])"
   ]
  },
  {
   "cell_type": "markdown",
   "id": "1c13df50",
   "metadata": {},
   "source": [
    "Where we have specified that for atoms closer than 0.1 Ang (i.e. interaction of an atom with itself) the interaction term is 0 eV, and for atoms at a distance between 0.1 and 1.5 Ang (first neighbours) the interaction parameter is -2.7 eV.\n",
    "\n",
    "Let's check what the actual values of the hamiltonian are: "
   ]
  },
  {
   "cell_type": "code",
   "execution_count": null,
   "id": "e997440a",
   "metadata": {},
   "outputs": [],
   "source": [
    "H.tocsr().toarray()"
   ]
  },
  {
   "cell_type": "markdown",
   "id": "c86a0ad9",
   "metadata": {},
   "source": [
    "We can see that **it's not actually a 2x2 hamiltonian**, as maybe you'd expect. This is the hamiltonian matrix containing all the interactions of atoms 0 and 1 (rows), with all the potential neighbouratoms in a 3x3 supercell. This means that there are 9 potential cells that can interact with the unit cell, with two atoms each. This results in a 2x18 hamiltonian matrix:"
   ]
  },
  {
   "cell_type": "code",
   "execution_count": null,
   "id": "f0a83c50",
   "metadata": {},
   "outputs": [],
   "source": [
    "px.imshow(H.tocsr().toarray(), color_continuous_scale=\"gray\", height=300)"
   ]
  },
  {
   "cell_type": "markdown",
   "id": "6db6f34f",
   "metadata": {},
   "source": [
    "You can try to understand it by looking at the interactions of the unit cell atoms with the rest:"
   ]
  },
  {
   "cell_type": "code",
   "execution_count": null,
   "id": "9f588ef2",
   "metadata": {},
   "outputs": [],
   "source": [
    "graphene.plot(nsc=[3,3,1], axes=\"xy\").update_traces(\n",
    "    selector={\"name\": \"Atoms\"}, mode=\"markers+text\", text=[\"0\", \"1\"]*9, textposition=\"top center\"\n",
    ")"
   ]
  },
  {
   "cell_type": "markdown",
   "id": "7aae7502",
   "metadata": {},
   "source": [
    "Now, for a given $k$, you can get $H_k$, which is calculated using the phases of each interaction, and everything ends up folded in a 2x2 matrix, as the matrices that you have been building: "
   ]
  },
  {
   "cell_type": "code",
   "execution_count": null,
   "id": "758724ed",
   "metadata": {},
   "outputs": [],
   "source": [
    "H.Hk(k=(0,0,0)).tocsr().toarray()"
   ]
  },
  {
   "cell_type": "markdown",
   "id": "6a0461a6",
   "metadata": {},
   "source": [
    "#### Getting the eigenstates\n",
    "\n",
    "You could diagonalize this hamiltonian yourself, but there is the `eigenstate` method that automatically does this for you:"
   ]
  },
  {
   "cell_type": "code",
   "execution_count": null,
   "id": "9c81a2bc",
   "metadata": {},
   "outputs": [],
   "source": [
    "eigenstate = H.eigenstate(k=(0,0,0))\n",
    "eigenstate"
   ]
  },
  {
   "cell_type": "markdown",
   "id": "1ecdf199",
   "metadata": {},
   "source": [
    "It returns an `EigenstateElectron` object, which contains the eigenvalues (`eig`) and the eigenstates (`state`):"
   ]
  },
  {
   "cell_type": "code",
   "execution_count": null,
   "id": "e050adf9",
   "metadata": {
    "scrolled": true
   },
   "outputs": [],
   "source": [
    "eigenstate.eig, eigenstate.state"
   ]
  },
  {
   "cell_type": "markdown",
   "id": "c22333c3",
   "metadata": {},
   "source": [
    "#### Plotting a band structure\n",
    "You could loop through all the $k$ values yourself as you did in the previous tasks, but sisl provides useful objects for sampling k-spaces. One of them is `BandStructure`, which is useful for 1D paths of k points.\n",
    "\n",
    "**NOTE**: There's also `MonkhorstPack`, which is equivalent to the monkhorst pack grid in SIESTA."
   ]
  },
  {
   "cell_type": "code",
   "execution_count": null,
   "id": "1ab44324",
   "metadata": {},
   "outputs": [],
   "source": [
    "band_struct = sisl.BandStructure(\n",
    "    H, # The hamiltonian that we want to diagonalize for each k point.\n",
    "    points=[[0, 0, 0], [2/3, 1/3, 0], [1/2, 0, 0]], # The corners of the path\n",
    "    divisions=5, # The number of k points\n",
    "    names=[r\"\\Gamma\", \"M\", \"K\"]\n",
    ")\n",
    "band_struct"
   ]
  },
  {
   "cell_type": "markdown",
   "id": "f72b36da",
   "metadata": {},
   "source": [
    "We can now apply the `eigh` method to get the eigen energies for each k point in our sampling:"
   ]
  },
  {
   "cell_type": "code",
   "execution_count": null,
   "id": "9e1c9a6a",
   "metadata": {},
   "outputs": [],
   "source": [
    "band_struct.apply.array.eigh()"
   ]
  },
  {
   "cell_type": "markdown",
   "id": "0577bac5",
   "metadata": {},
   "source": [
    "But if what we want is to plot the bands, sisl already provides a `plot` method to you:"
   ]
  },
  {
   "cell_type": "code",
   "execution_count": null,
   "id": "949a7a70",
   "metadata": {},
   "outputs": [],
   "source": [
    "band_struct.plot()"
   ]
  },
  {
   "cell_type": "markdown",
   "id": "0b86886d",
   "metadata": {},
   "source": [
    "### Summary\n",
    "\n",
    "As a summary here's the code to build a graphene tight binding model in `sisl`:"
   ]
  },
  {
   "cell_type": "code",
   "execution_count": null,
   "id": "1f304a57",
   "metadata": {},
   "outputs": [],
   "source": [
    "# Create the geometry\n",
    "graphene = sisl.geom.graphene()\n",
    "# Create the hamiltonian\n",
    "H = sisl.Hamiltonian(graphene)\n",
    "# Construct the hamiltonian with the values that we want\n",
    "H.construct([(0.1, 1.5), (0, -2.7)])"
   ]
  },
  {
   "cell_type": "markdown",
   "id": "3849ef14",
   "metadata": {},
   "source": [
    "And now we can play with it to plot the bands:"
   ]
  },
  {
   "cell_type": "code",
   "execution_count": null,
   "id": "6cd03e83",
   "metadata": {},
   "outputs": [],
   "source": [
    "# We need to define a path of k points\n",
    "band_struct = sisl.BandStructure(H, points=[[0, 0, 0], [2/3, 1/3, 0], [1/2, 0, 0]],\n",
    "    divisions=200, names=[r\"\\Gamma\", \"M\", \"K\"]\n",
    ")\n",
    "# Then we can plot the bands\n",
    "band_struct.plot()"
   ]
  },
  {
   "cell_type": "markdown",
   "id": "b2dd22fb",
   "metadata": {},
   "source": [
    "Also, the **fatbands**. In fatbands, the width of each band represents the coefficient of a particular basis orbital for that band at that k-point. Usually, you draw multiple orbitals (or groups of orbitals), each in one colour. The **wider the band is for a given color, the more contribution of the orbital to the state** (bigger coefficient).\n",
    "\n",
    "Here's how you can get them:"
   ]
  },
  {
   "cell_type": "code",
   "execution_count": null,
   "id": "8b7e1091",
   "metadata": {},
   "outputs": [],
   "source": [
    "# Get the fatbands plot\n",
    "fatbands = band_struct.plot.fatbands()\n",
    "# Split the contributions by atoms to see how each atom contributes to the bands\n",
    "fatbands.split_groups(on=\"atoms\", name=\"Atom $atoms\")"
   ]
  },
  {
   "cell_type": "markdown",
   "id": "0f4bd43e",
   "metadata": {},
   "source": [
    "In this plot we can see that all atoms contribute exactly equally to each state.\n",
    "\n",
    "Then there is the **projected density of states** (*PDOS*). A PDOS plot allows you to visualize not only the density of states of a structure, but also how particular basis orbitals (or groups of them) contribute to it. You can easily get it from the hamiltonian. There are several parameters that are crucial for this analysis:\n",
    "- The k point sampling (`kgrid`).\n",
    "- The energy range (`Erange`) and number of energy points at which we calculate the DOS (`nE`).\n",
    "- The function/distribution used to smooth out the curve (`distribution`).\n",
    "\n",
    "We provide here some good values, but you can play with them:"
   ]
  },
  {
   "cell_type": "code",
   "execution_count": null,
   "id": "c48df2a9",
   "metadata": {},
   "outputs": [],
   "source": [
    "# Get the PDOS plot\n",
    "pdos_plot = H.plot.pdos(\n",
    "    kgrid=[90,90,1], nE=1000, Erange=[-10, 10],\n",
    "    distribution={\"method\": \"gaussian\", \"smearing\": 0.1}\n",
    ")\n",
    "# Split the contributions by atoms to see how each atom contributes to the DOS\n",
    "pdos_plot.split_DOS(on=\"atoms\", name=\"Atom $atoms\")"
   ]
  },
  {
   "cell_type": "markdown",
   "id": "8f83fc88",
   "metadata": {},
   "source": [
    "We can also see here that both atoms contribute exactly the same to the density of states.\n",
    "\n",
    "**TASK 1**: By checking the bands, there seems to be states all over the energy range. However, the density of states is much higher at around -2eV than at 0 eV. Explain why using the plotted bands.\n",
    "\n",
    "**TASK 2**: The difference between a graphene tight binding and a boron nitride (h-BN) one is that in h-BN the onsite terms of each atom are different ($e_0 \\ne e_1$). The common approach is to make them have the same magnitude but of opposite sign ($e_0 = -e_1$). In the cell where we define our tight binding $H$, after building it, update the `H[0,0]` and `H[1,1]` terms appropiately to have a h-BN tight binding. Plot the bands, fatbands and PDOS again and explain what happens.\n",
    "\n",
    "**TASK 3**: The following code displays the DOS analysis of our tight binding hamiltonian for a various number of smearing values of number of k points. Keep in mind that **there's only one valid** answer to the problem of finding the **DOS**, the variability shown here is a result of not good enough numerical analysis. This is a key fact to understand: **for your numerical analysis to be right, the parameters need to be right**. With the help of the plot explain:\n",
    "1. In general, what is the effect of the smearing parameter and the number of k points in the PDOS analysis?\n",
    "2. Which combination of parameters do you consider a good DOS representation? Which one is cheaper to compute?\n",
    "3. With low kpoint sampling (between 1 and 6 k-points), you can see a peak appearing at 0 eV only when nk=3 or nk=6. Why does that peak appear only for those values of nk?"
   ]
  },
  {
   "cell_type": "code",
   "execution_count": null,
   "id": "25d3a995",
   "metadata": {},
   "outputs": [],
   "source": [
    "import itertools\n",
    "\n",
    "plots = []\n",
    "nkpoints_values = [1, 2, 3, 4, 5, 6, 9, 21, 50, 90]\n",
    "smearing_values = [1e-3, 0.1, 0.2]\n",
    "for nkpoints, smearing in itertools.product(nkpoints_values, smearing_values):\n",
    "    plot = H.plot.pdos(\n",
    "        kgrid=[nkpoints, nkpoints,1], nE=300, Erange=[-10, 10],\n",
    "        distribution={\"method\": \"gaussian\", \"smearing\": smearing}\n",
    "    )\n",
    "\n",
    "    plots.append(plot)\n",
    "    \n",
    "sisl.viz.SubPlots(\n",
    "    plots=plots, cols=3, \n",
    "    make_subplots_kwargs={\n",
    "        \"row_titles\": [f\"nk={nk}\" for nk in nkpoints_values], \n",
    "        \"column_titles\": [f\"smearing={s}\" for s in smearing_values]\n",
    "    }\n",
    ").update_layout(height=1500, showlegend=False)"
   ]
  },
  {
   "cell_type": "markdown",
   "id": "3fbabd51",
   "metadata": {},
   "source": [
    "Graphene with SIESTA\n",
    "----\n",
    "\n",
    "**TASK 4:** We performed an analysis of our structure with a tight binding hamiltonian ($H$). However, it really doesn't matter where the $H$ comes from, as long as you have one. You can make SIESTA write the final Hamiltonian with the flag:\n",
    "\n",
    "```\n",
    "TS.HS.Save true\n",
    "```\n",
    "\n",
    "in your fdf. Rerun one of your graphene calculations with this flag and analyze the bands, fatbands and PDOS as we did with the tight binding hamiltonian. The main difference is that we will now have much more basis orbitals. We can then split the fatbands and PDOS contributions by orbitals and see how different orbitals contribute to them. **Explain the results you get in comparison to the tight binding**.\n",
    "\n",
    "**NOTE**: Use also `SaveRho true` in your fdf file to make SIESTA store the electronic density ($\\rho$, rho), we will then display it just for fun, so that you can see how it can be done and what it looks like.\n",
    "\n",
    "**NOTE 2**: The plots generated in this notebook are documented [here](https://zerothi.github.io/sisl/visualization/viz_module/index.html#showcase-of-plot-classes) in a very visual way. If you want to change the parameters, you can look at the documentation.\n",
    "\n",
    "Rerun your calculation, and then use the next cells to get the analysis.\n",
    "\n",
    "First, we will need to read the hamiltonian from your simulation. Once the simulation is finished you can read it like this:"
   ]
  },
  {
   "cell_type": "code",
   "execution_count": null,
   "id": "6a751ebd",
   "metadata": {},
   "outputs": [],
   "source": [
    "# Substitute path/to/your.fdf by the actual path to your fdf.\n",
    "H = sisl.get_sile(\"path/to/your.fdf\").read_hamiltonian()"
   ]
  },
  {
   "cell_type": "markdown",
   "id": "b00f394e",
   "metadata": {},
   "source": [
    "And then perform the analysis:\n",
    "\n",
    "#### Bands"
   ]
  },
  {
   "cell_type": "code",
   "execution_count": null,
   "id": "19420620",
   "metadata": {},
   "outputs": [],
   "source": [
    "# We need to define a path of k points\n",
    "band_struct = sisl.BandStructure(H, points=[[0, 0, 0], [2/3, 1/3, 0], [1/2, 0, 0]],\n",
    "    divisions=100, names=[r\"\\Gamma\", \"M\", \"K\"]\n",
    ")\n",
    "# Then we can plot the bands\n",
    "band_struct.plot()"
   ]
  },
  {
   "cell_type": "markdown",
   "id": "511e7694",
   "metadata": {},
   "source": [
    "#### Fatbands"
   ]
  },
  {
   "cell_type": "code",
   "execution_count": null,
   "id": "821aac53",
   "metadata": {},
   "outputs": [],
   "source": [
    "# Get the fatbands plot\n",
    "fatbands = band_struct.plot.fatbands()\n",
    "# Split the contributions by the n and l quantum numbers\n",
    "fatbands.split_groups(on=\"n+l\")"
   ]
  },
  {
   "cell_type": "markdown",
   "id": "f5a8c3b0",
   "metadata": {},
   "source": [
    "#### PDOS"
   ]
  },
  {
   "cell_type": "code",
   "execution_count": null,
   "id": "5c99bd54",
   "metadata": {},
   "outputs": [],
   "source": [
    "# Get the PDOS plot\n",
    "pdos_plot = H.plot.pdos(\n",
    "    kgrid=[90,90,1], nE=1000, Erange=[-10, 10],\n",
    "    distribution={\"method\": \"gaussian\", \"smearing\": 0.1}\n",
    ")\n",
    "# Split the contributions by the n and l quantum numbers\n",
    "pdos_plot.split_DOS(on=\"n+l\", name=\"Atom $atoms\")"
   ]
  },
  {
   "cell_type": "markdown",
   "id": "aaace22e",
   "metadata": {},
   "source": [
    "**Just for fun:**\n",
    "\n",
    "If you have used `SaveRho true`, we can now plot the electronic density ($\\rho$, rho):"
   ]
  },
  {
   "cell_type": "code",
   "execution_count": null,
   "id": "58cbb66f",
   "metadata": {
    "scrolled": true
   },
   "outputs": [],
   "source": [
    "rho = sisl.get_sile(\"path/to/your.fdf\").read_grid(\"RHO\")"
   ]
  },
  {
   "cell_type": "code",
   "execution_count": null,
   "id": "8160d88a",
   "metadata": {},
   "outputs": [],
   "source": [
    "rho.plot(axes=\"xy\", plot_geom=True)"
   ]
  }
 ],
 "metadata": {
  "kernelspec": {
   "display_name": "Python 3 (ipykernel)",
   "language": "python",
   "name": "python3"
  },
  "language_info": {
   "codemirror_mode": {
    "name": "ipython",
    "version": 3
   },
   "file_extension": ".py",
   "mimetype": "text/x-python",
   "name": "python",
   "nbconvert_exporter": "python",
   "pygments_lexer": "ipython3",
   "version": "3.9.15"
  }
 },
 "nbformat": 4,
 "nbformat_minor": 5
}
